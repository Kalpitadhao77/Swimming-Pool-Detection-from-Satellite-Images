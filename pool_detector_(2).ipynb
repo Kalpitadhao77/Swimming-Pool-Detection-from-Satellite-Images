{
  "cells": [
    {
      "cell_type": "code",
      "execution_count": null,
      "metadata": {
        "id": "OKDfZ64RuWHy"
      },
      "outputs": [],
      "source": [
        "config = {'display-height': 700, # Display pixel height of image for jupyter\n",
        "         'display-width': 1200, # Display pixel width of image for jupyter\n",
        "         'image-width':1920, # Actual pixel width of image in directory\n",
        "         'image-height':939, # Actual pixel height of image in directory\n",
        "         'hue-lower': 50, # Lower bound hue in HSV space\n",
        "         'hue-upper': 120, # Upper bound hue in HSV space\n",
        "         'sat-lower': 40, # Lower bound saturation in HSV space\n",
        "         'sat-upper': 255, # Upper bound saturation in HSV space\n",
        "         'value-lower': 140, # Lower bound value in HSV space\n",
        "         'value-upper': 255, # Upper bound value in HSV space\n",
        "         'image-dir': '/content/61.PNG', # Relative directory of images\n",
        "         'area-threshhold': 500, # Area threshhold, detections not meeting this size will be ignored \n",
        "         'remove-dupes': True} # Remove duplicates flag, detections contained within other detections will be removed."
      ]
    },
    {
      "cell_type": "code",
      "execution_count": null,
      "metadata": {
        "id": "Zvj6ztwHuWH0"
      },
      "outputs": [],
      "source": [
        "def calc_box_limit(points):\n",
        "    centroid_width = points[0]\n",
        "    centroid_height = points[1]\n",
        "    width_offset = points[2]//2\n",
        "    height_offset = points[3]//2\n",
        "    \n",
        "    box_limits = (centroid_width - width_offset,\n",
        "                  centroid_width + width_offset,\n",
        "                  centroid_height - height_offset,\n",
        "                  centroid_height + height_offset)\n",
        "    \n",
        "    return box_limits"
      ]
    },
    {
      "cell_type": "code",
      "execution_count": null,
      "metadata": {
        "id": "QBVUa_szuWH0"
      },
      "outputs": [],
      "source": [
        "def return_duplicate_indices(box_limits):\n",
        "\n",
        "    discard = []\n",
        "\n",
        "    for index, boundary in enumerate(box_limits):\n",
        "\n",
        "        # If found within ANOTHER box, throw it away, set keep to False\n",
        "        for outer_index, outer_boundary in enumerate(box_limits):\n",
        "            if outer_index != index:\n",
        "                if boundary[0] >= outer_boundary[0] and\\\n",
        "                   boundary[1] <= outer_boundary[1] and\\\n",
        "                   boundary[2] >= outer_boundary[2] and\\\n",
        "                   boundary[3] <= outer_boundary[3]:\n",
        "                    print('Found duplicate! {} inside of {}'.format(boundary, outer_boundary))\n",
        "                    discard.append(index)\n",
        "    return discard"
      ]
    },
    {
      "cell_type": "code",
      "execution_count": null,
      "metadata": {
        "id": "FRz5fKpxuWH1"
      },
      "outputs": [],
      "source": [
        "def display_image_jupyter(image_path):\n",
        "    return Image(filename = image_path, \n",
        "          width = config['display-width'], \n",
        "          height = config['display-height'])"
      ]
    },
    {
      "cell_type": "code",
      "execution_count": null,
      "metadata": {
        "id": "0let8iaAuWH2"
      },
      "outputs": [],
      "source": [
        "def contours_to_boundingboxes(contours):\n",
        "    original_detections = []\n",
        "    for contour in contours:\n",
        "        x, y, w, h = cv2.boundingRect(contour)\n",
        "        area = w * h\n",
        "        if area >= config['area-threshhold']:\n",
        "            original_detections.append((x, y, w, h))\n",
        "            \n",
        "    return original_detections"
      ]
    },
    {
      "cell_type": "code",
      "execution_count": null,
      "metadata": {
        "id": "aZhsFQA5uWH2"
      },
      "outputs": [],
      "source": [
        "def print_verify(list_of_something, name):\n",
        "\n",
        "    print('{} {} have been located.\\n'.format(len(list_of_something), name))\n",
        "\n",
        "    for thing in list_of_something:\n",
        "        print(thing)"
      ]
    },
    {
      "cell_type": "code",
      "execution_count": null,
      "metadata": {
        "id": "2JesSd1OuWH2"
      },
      "outputs": [],
      "source": [
        "def find_long_lat_from_filepath(image_path):\n",
        "    \n",
        "    filename = image_path.split('/')[-1]\n",
        "    split = filename.split('_')\n",
        "    bottom_left_corner = [float(split[4] + '.' + split[5]), float(split[6] + '.' + split[7])]\n",
        "    top_right_corner = [float(split[8] + '.' + split[9]), float(split[10] + '.' + split[11])]\n",
        "    \n",
        "    return bottom_left_corner, top_right_corner"
      ]
    },
    {
      "cell_type": "code",
      "execution_count": null,
      "metadata": {
        "id": "2q8G6LzouWH3"
      },
      "outputs": [],
      "source": [
        "#files = [config['image-dir'] + filename for filename in os.listdir(config['image-dir'])]"
      ]
    },
    {
      "cell_type": "code",
      "execution_count": null,
      "metadata": {
        "id": "45eqDvPhuWH4"
      },
      "outputs": [],
      "source": [
        "test_img_path = '/content/29.PNG'"
      ]
    },
    {
      "cell_type": "code",
      "execution_count": null,
      "metadata": {
        "id": "TxQZZJwCuWH4"
      },
      "outputs": [],
      "source": [
        "#display_image_jupyter(test_img_path)"
      ]
    },
    {
      "cell_type": "code",
      "execution_count": null,
      "metadata": {
        "colab": {
          "base_uri": "https://localhost:8080/"
        },
        "id": "Vlr-gxrjuWH5",
        "outputId": "d54f060c-acc9-41a6-facf-6d76d90429cf"
      },
      "outputs": [
        {
          "output_type": "stream",
          "name": "stdout",
          "text": [
            "(103, 212, 3)\n"
          ]
        }
      ],
      "source": [
        "\n",
        "image = cv2.imread(test_img_path)\n",
        "print(image.shape)\n",
        "\n",
        "hsv = cv2.cvtColor(image, cv2.COLOR_BGR2HSV)\n",
        "\n",
        "mask = cv2.inRange(hsv, \n",
        "                   (config['hue-lower'], config['sat-lower'], config['value-lower']), \n",
        "                   (config['hue-upper'], config['sat-upper'], config['value-upper']))\n",
        "\n",
        "\n",
        "imask = mask>0\n",
        "pool_blue = numpy.zeros_like(image, \n",
        "                             numpy.uint8)\n",
        "pool_blue[imask] = image[imask]\n",
        "\n",
        "contours = cv2.findContours(mask, \n",
        "                                  cv2.RETR_TREE, \n",
        "                                  cv2.CHAIN_APPROX_SIMPLE)[0]"
      ]
    },
    {
      "cell_type": "code",
      "execution_count": null,
      "metadata": {
        "id": "6sY2bWZyuWH6"
      },
      "outputs": [],
      "source": [
        "\n",
        "original_detections = contours_to_boundingboxes(contours)\n",
        "\n",
        "box_limits = list(map(calc_box_limit, original_detections))\n",
        "    \n",
        "if config['remove-dupes'] is True:\n",
        "\n",
        "    discard = return_duplicate_indices(box_limits)\n",
        "\n",
        "    final_contours = [item for index, item in enumerate(original_detections) if index not in discard]\n",
        "else:\n",
        "    discard = []\n",
        "    final_contours = original_detections\n",
        "\n",
        "for c in final_contours:\n",
        "    x, y, w, h = c[0], c[1], c[2], c[3]\n",
        "    cv2.rectangle(pool_blue,\n",
        "                  (x,y),\n",
        "                  (x + w, y + h),\n",
        "                  (0, 255, 0),2)"
      ]
    },
    {
      "cell_type": "code",
      "execution_count": null,
      "metadata": {
        "colab": {
          "base_uri": "https://localhost:8080/"
        },
        "id": "7BB0NzPZuWH6",
        "outputId": "40c4c96e-acfa-4bb3-a1fa-d8d490927d32"
      },
      "outputs": [
        {
          "output_type": "execute_result",
          "data": {
            "text/plain": [
              "True"
            ]
          },
          "metadata": {},
          "execution_count": 689
        }
      ],
      "source": [
        "cv2.imwrite('test_result.png', pool_blue)"
      ]
    },
    {
      "cell_type": "code",
      "execution_count": null,
      "metadata": {
        "colab": {
          "base_uri": "https://localhost:8080/",
          "height": 717
        },
        "id": "xaPb4UYBuWH6",
        "outputId": "c951b12b-57a7-4882-9376-a0a4378458cf"
      },
      "outputs": [
        {
          "output_type": "execute_result",
          "data": {
            "text/plain": [
              "<IPython.core.display.Image object>"
            ],
            "image/png": "[encoded data removed]"
          },
          "metadata": {
            "image/png": {
              "width": 1200,
              "height": 700
            }
          },
          "execution_count": 690
        }
      ],
      "source": [
        "display_image_jupyter('test_result.png')"
      ]
    },
    {
      "cell_type": "code",
      "source": [
        "pool_blue.shape"
      ],
      "metadata": {
        "colab": {
          "base_uri": "https://localhost:8080/"
        },
        "id": "sE50k0tCldiM",
        "outputId": "b2f4b460-711e-42f9-feba-64d6d7134ec5"
      },
      "execution_count": null,
      "outputs": [
        {
          "output_type": "execute_result",
          "data": {
            "text/plain": [
              "(103, 212, 3)"
            ]
          },
          "metadata": {},
          "execution_count": 691
        }
      ]
    },
    {
      "cell_type": "code",
      "execution_count": null,
      "metadata": {
        "colab": {
          "base_uri": "https://localhost:8080/"
        },
        "id": "jXT0ZkWAuWH7",
        "outputId": "2e37db7c-2509-4cb7-be3b-a5f37256554b"
      },
      "outputs": [
        {
          "output_type": "stream",
          "name": "stdout",
          "text": [
            "2 original detections have been located.\n",
            "\n",
            "(121, 49, 50, 33)\n",
            "(49, 46, 43, 25)\n"
          ]
        }
      ],
      "source": [
        "print_verify(original_detections, 'original detections')"
      ]
    },
    {
      "cell_type": "code",
      "execution_count": null,
      "metadata": {
        "colab": {
          "base_uri": "https://localhost:8080/"
        },
        "id": "vAGQsQmSuWH7",
        "outputId": "3a0f429d-5389-4da9-9a7b-2eb427e99d1e"
      },
      "outputs": [
        {
          "output_type": "stream",
          "name": "stdout",
          "text": [
            "2 box limits have been located.\n",
            "\n",
            "(96, 146, 33, 65)\n",
            "(28, 70, 34, 58)\n"
          ]
        }
      ],
      "source": [
        "print_verify(box_limits, 'box limits')"
      ]
    },
    {
      "cell_type": "code",
      "execution_count": null,
      "metadata": {
        "colab": {
          "base_uri": "https://localhost:8080/"
        },
        "id": "gAQAb0XwuWH8",
        "outputId": "3b2deebf-afe2-43fd-b651-f96ecc3794a5"
      },
      "outputs": [
        {
          "output_type": "stream",
          "name": "stdout",
          "text": [
            "0 duplicate detections have been located.\n",
            "\n"
          ]
        }
      ],
      "source": [
        "print_verify(discard, 'duplicate detections')"
      ]
    },
    {
      "cell_type": "code",
      "execution_count": null,
      "metadata": {
        "colab": {
          "base_uri": "https://localhost:8080/"
        },
        "id": "QqAgmvz8uWH8",
        "outputId": "ae377269-cb5e-48e2-d07b-49462d4a24d9"
      },
      "outputs": [
        {
          "output_type": "stream",
          "name": "stdout",
          "text": [
            "2 final contours have been located.\n",
            "\n",
            "(121, 49, 50, 33)\n",
            "(49, 46, 43, 25)\n"
          ]
        }
      ],
      "source": [
        "print_verify(final_contours, 'final contours')"
      ]
    },
    {
      "cell_type": "code",
      "source": [
        "from operator import itemgetter\n",
        "classes = [\"No Swimming Pool\",\"Swimming Pool\"]\n",
        "def decode_predictions(pred):\n",
        "    pred = dict(zip(classes, pred.tolist()[0]))\n",
        "    return sorted(pred.items(), key=itemgetter(1))"
      ],
      "metadata": {
        "id": "xVpJf30HyjzM"
      },
      "execution_count": null,
      "outputs": []
    },
    {
      "cell_type": "code",
      "source": [
        "from google.colab import drive\n",
        "drive.mount('/content/drive')\n",
        "model_final=tf.keras.models.load_model('/content/drive/MyDrive/Mosaic/mosaicps2/swimmodel.h5')"
      ],
      "metadata": {
        "colab": {
          "base_uri": "https://localhost:8080/"
        },
        "id": "Ml5Tf_7e_zLE",
        "outputId": "8f44a726-ad0e-4943-c46d-467bb0e48e93"
      },
      "execution_count": null,
      "outputs": [
        {
          "output_type": "stream",
          "name": "stdout",
          "text": [
            "Drive already mounted at /content/drive; to attempt to forcibly remount, call drive.mount(\"/content/drive\", force_remount=True).\n"
          ]
        }
      ]
    },
    {
      "cell_type": "code",
      "source": [
        "def check_for_pool(x,y,w,h,img):\n",
        "  dim = 64\n",
        "  if(img.shape[0] < 2*dim or img.shape[1] < 2*dim):\n",
        "    dim = min(img.shape[0], img.shape[1])//2\n",
        "\n",
        "  #crop = img[y:y+h, x:x+w]\n",
        "  # print(\"POS\")\n",
        "  center_y=y+h//2\n",
        "  center_x=x+w//2\n",
        "\n",
        "  crop = img[center_y-dim:center_y+dim, center_x-dim:center_x+dim]\n",
        "\n",
        "  height=2*dim-crop.shape[0]\n",
        "  width=2*dim-crop.shape[1]\n",
        "  if (height!=0 or width!=0):\n",
        "    crop=img[center_y-dim-height:center_y+dim, center_x-dim-width:center_x+dim]\n",
        "\n",
        "  height=2*dim-crop.shape[0]\n",
        "  width=2*dim-crop.shape[1]\n",
        "  if (height!=0 or width!=0):\n",
        "    crop=img[center_y-dim-height:center_y+64, center_x-64:center_x+64+width]\n",
        "\n",
        "  height=2*dim-crop.shape[0]\n",
        "  width=2*dim-crop.shape[1]\n",
        "  if (height!=0 or width!=0):\n",
        "    crop=image[center_y-dim:center_y+dim+height, center_x-dim:center_x+dim+width]\n",
        "\n",
        "  height=2*dim-crop.shape[0]\n",
        "  width=2*dim-crop.shape[1]\n",
        "  if (height!=0 or width!=0):\n",
        "    crop=img[center_y-dim:center_y+dim+height, center_x-dim-width:center_x+dim]\n",
        "\n",
        "  #print(\"Crop before resizing:\")\n",
        " # cv2_imshow(crop)\n",
        " # print(crop.shape)\n",
        "\n",
        "  if(dim!=64):\n",
        "    #print(\"this is executed\")\n",
        "    crop = cv2.resize(crop, (128, 128), cv2.INTER_LINEAR)\n",
        "\n",
        "\n",
        "  #crop = cv2.resize(crop, (128, 128), interpolation = cv2.INTER_CUBIC)\n",
        "  #cv2_imshow( crop)\n",
        "  # plt.figure(figsize=(7,7))\n",
        "  # img = img.crop((1540, 530, 69, 38))\n",
        "  # plt.imshow(img)\n",
        "  # plt.grid(True)\n",
        "  # plt.xticks([])\n",
        "  # plt.yticks([])\n",
        "  #print(\"CROP \",crop.shape)\n",
        "  #crop = cv2.resize(crop, (128, 128), interpolation = cv2.INTER_CUBIC)\n",
        "  if (crop.shape[0]!=crop.shape[1]):\n",
        "    return [('No Swimming Pool', 1.0),('Swimming Pool', 0.0)]\n",
        "  img = np.reshape(crop,[1,128,128,3])\n",
        "  \n",
        "  ans= decode_predictions(model_final.predict(img))\n",
        "  return ans"
      ],
      "metadata": {
        "id": "145xRbb1_U3Y"
      },
      "execution_count": null,
      "outputs": []
    },
    {
      "cell_type": "code",
      "source": [
        "img = cv2.imread('/content/29.PNG')\n",
        "markings = img\n",
        "for i in final_contours:\n",
        "  ans=check_for_pool(i[0],i[1],i[2],i[3], img)\n",
        "  for j in ans:\n",
        "    if (j[0]=='Swimming Pool'):\n",
        "      temp=j[1]\n",
        "  if (temp>=0.7):\n",
        "    x1=i[0]\n",
        "    y1=i[1]\n",
        "    x2=i[0]+i[2]\n",
        "    y2=i[1]+i[3]\n",
        "    cv2.rectangle(markings, (x1, y1), (x2, y2), (255,0,0), 2)\n",
        "  print(ans)\n",
        "cv2_imshow(markings)"
      ],
      "metadata": {
        "colab": {
          "base_uri": "https://localhost:8080/",
          "height": 156
        },
        "id": "TNE5l4iYy0Wd",
        "outputId": "12c7dc33-6a8a-486b-b69c-c33d27c722e3"
      },
      "execution_count": null,
      "outputs": [
        {
          "output_type": "stream",
          "name": "stdout",
          "text": [
            "[('No Swimming Pool', 6.739365719908844e-24), ('Swimming Pool', 1.0)]\n",
            "[('No Swimming Pool', 4.139731386988932e-16), ('Swimming Pool', 1.0)]\n"
          ]
        },
        {
          "output_type": "display_data",
          "data": {
            "text/plain": [
              "<PIL.Image.Image image mode=RGB size=212x103 at 0x7FCBDA6C2B90>"
            ],
            "image/png": "[encoded data removed]"
          },
          "metadata": {}
        }
      ]
    },
    {
      "cell_type": "code",
      "source": [
        ""
      ],
      "metadata": {
        "id": "2_ADlTQQAMTP"
      },
      "execution_count": null,
      "outputs": []
    },
    {
      "cell_type": "code",
      "source": [
        ""
      ],
      "metadata": {
        "id": "iCV1yNaSAYov"
      },
      "execution_count": null,
      "outputs": []
    },
    {
      "cell_type": "code",
      "source": [
        ""
      ],
      "metadata": {
        "id": "KFAiHsIUAa7w"
      },
      "execution_count": null,
      "outputs": []
    }
  ],
  "metadata": {
    "kernelspec": {
      "display_name": "Python 3",
      "language": "python",
      "name": "python3"
    },
    "language_info": {
      "codemirror_mode": {
        "name": "ipython",
        "version": 3
      },
      "file_extension": ".py",
      "mimetype": "text/x-python",
      "name": "python",
      "nbconvert_exporter": "python",
      "pygments_lexer": "ipython3",
      "version": "3.6.5"
    },
    "toc": {
      "base_numbering": 1,
      "nav_menu": {},
      "number_sections": true,
      "sideBar": true,
      "skip_h1_title": false,
      "title_cell": "Table of Contents",
      "title_sidebar": "Contents",
      "toc_cell": false,
      "toc_position": {
        "height": "calc(100% - 180px)",
        "left": "10px",
        "top": "150px",
        "width": "227.183px"
      },
      "toc_section_display": true,
      "toc_window_display": false
    },
    "varInspector": {
      "cols": {
        "lenName": 16,
        "lenType": 16,
        "lenVar": 40
      },
      "kernels_config": {
        "python": {
          "delete_cmd_postfix": "",
          "delete_cmd_prefix": "del ",
          "library": "var_list.py",
          "varRefreshCmd": "print(var_dic_list())"
        },
        "r": {
          "delete_cmd_postfix": ") ",
          "delete_cmd_prefix": "rm(",
          "library": "var_list.r",
          "varRefreshCmd": "cat(var_dic_list()) "
        }
      },
      "types_to_exclude": [
        "module",
        "function",
        "builtin_function_or_method",
        "instance",
        "_Feature"
      ],
      "window_display": false
    },
    "colab": {
      "name": "pool_detector (2).ipynb",
      "provenance": [],
      "collapsed_sections": []
    }
  },
  "nbformat": 4,
  "nbformat_minor": 0
}